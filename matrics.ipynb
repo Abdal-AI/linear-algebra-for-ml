{
 "cells": [
  {
   "cell_type": "markdown",
   "id": "04517b79",
   "metadata": {},
   "source": [
    "# **MATRICS**"
   ]
  },
  {
   "cell_type": "markdown",
   "id": "5a0b696d",
   "metadata": {},
   "source": [
    "# VECTOR\n",
    "- IT is numpy array\n",
    "- example\n",
    "**A=np.array([1,2,3,4,5])**"
   ]
  },
  {
   "cell_type": "markdown",
   "id": "31bdeca5",
   "metadata": {},
   "source": [
    "# Vector Addition\n",
    "Two vectors of equal length can be added together to create a new third vector.\n",
    "c = a + b\n",
    "\n",
    "The new vector has the same length as the other two vectors. Each element of the new\n",
    "vector is calculated as the addition of the elements of the other vectors at the same index; for\n",
    "example:\n",
    "c = (a1 + b1, a2 + b2, a3 + b3)"
   ]
  },
  {
   "cell_type": "code",
   "execution_count": 1,
   "id": "0a386d4b",
   "metadata": {},
   "outputs": [
    {
     "name": "stdout",
     "output_type": "stream",
     "text": [
      "[10 10 10 10 10 10 10 10 10]\n"
     ]
    }
   ],
   "source": [
    "import numpy as np\n",
    "A=np.array([1,2,3,4,5,6,7,8,9])\n",
    "B=np.array([9,8,7,6,5,4,3,2,1])\n",
    "C=A+B\n",
    "print(C)"
   ]
  },
  {
   "cell_type": "markdown",
   "id": "9932f57e",
   "metadata": {},
   "source": [
    " # Vector Subtraction\n",
    "One vector can be subtracted from another vector of equal length to create a new third vector.\n",
    "- c = a − b\n",
    "\n",
    "\n",
    " - As with addition, the new vector has the same length as the parent vectors and each element\n",
    "of the new vector is calculated as the subtraction of the elements at the same indices.\n",
    "c = (a1 − b1, a2 − b2, a3 − b3)"
   ]
  },
  {
   "cell_type": "code",
   "execution_count": 2,
   "id": "c7a0f1a2",
   "metadata": {},
   "outputs": [
    {
     "name": "stdout",
     "output_type": "stream",
     "text": [
      "[-1  1  0  0  3  5]\n"
     ]
    }
   ],
   "source": [
    "import numpy as np\n",
    "A=np.array([2,4,5,6,7,8])\n",
    "B=np.array([3,3,5,6,4,3])\n",
    "C=A-B\n",
    "print(C)"
   ]
  },
  {
   "cell_type": "markdown",
   "id": "900a8b72",
   "metadata": {},
   "source": [
    " # Vector Multiplication\n",
    "Two vectors of equal length can be multiplied together.\n",
    "- c = a × b\n",
    "\n",
    "As with addition and subtraction, this operation is performed element-wise to result in a\n",
    "new vector of the same length.\n",
    "- c = (a1 × b1, a2 × b2, a3 × b3)\n",
    "\n",
    "or\n",
    " - c = (a1b1, a2b2, a3b3)"
   ]
  },
  {
   "cell_type": "code",
   "execution_count": 1,
   "id": "1ec0e375",
   "metadata": {},
   "outputs": [
    {
     "name": "stdout",
     "output_type": "stream",
     "text": [
      "[10 18 16 20 12]\n"
     ]
    }
   ],
   "source": [
    "import numpy as np\n",
    "A=np.array([2,3,4,5,6])\n",
    "B=np.array([5,6,4,4,2])\n",
    "C=A*B\n",
    "print(C)"
   ]
  },
  {
   "cell_type": "markdown",
   "id": "930da6fb",
   "metadata": {},
   "source": [
    " # Vector Division\n",
    "Two vectors of equal length can be divided.\n",
    "- c = a/b\n",
    "\n",
    "As with other arithmetic operations, this operation is performed element-wise to result in a\n",
    "new vector of the same length.\n",
    " - c = (a1\n",
    "b1\n",
    ", a2\n",
    "b2\n",
    ", a3\n",
    "b3\n",
    ")"
   ]
  },
  {
   "cell_type": "code",
   "execution_count": 2,
   "id": "a45ad2e2",
   "metadata": {},
   "outputs": [
    {
     "name": "stdout",
     "output_type": "stream",
     "text": [
      "[0.66666667 0.6        0.66666667 0.71428571 0.85714286 1.16666667]\n"
     ]
    }
   ],
   "source": [
    "import numpy as np\n",
    "A=np.array([2,3,4,5,6,7])\n",
    "B=np.array([3,5,6,7,7,6])\n",
    "C=A/B\n",
    "print(C)"
   ]
  },
  {
   "cell_type": "markdown",
   "id": "696e49bf",
   "metadata": {},
   "source": [
    " # Vector Dot Product\n",
    "We can calculate the sum of the multiplied elements of two vectors of the same length to give a\n",
    "scalar. This is called the dot product, named because of the dot operator used when describing\n",
    "the operation.\n",
    "The dot product is the key tool for calculating vector projections, vector decomposi-\n",
    "tions, and determining orthogonality. The name dot product comes from the symbol\n",
    "used to denote it.\n",
    "\n",
    "- c = a · b\n",
    "\n",
    "The operation can be used in machine learning to calculate the weighted sum of a vector.\n",
    "The dot product is calculated as follows:\n",
    "- c = (a1 × b1 + a2 × b2 + a3 × b3)\n",
    "\n",
    "or\n",
    " - c = (a1b1 + a2b2 + a3b3)\n",
    "\n",
    "We can calculate the dot product between two vectors in Python using the dot() function\n",
    "on a NumPy array."
   ]
  },
  {
   "cell_type": "code",
   "execution_count": 3,
   "id": "7f9b9223",
   "metadata": {},
   "outputs": [
    {
     "name": "stdout",
     "output_type": "stream",
     "text": [
      "139\n"
     ]
    }
   ],
   "source": [
    "import numpy as np\n",
    "A=np.array([2,3,4,5,6,5])\n",
    "B=np.array([4,5,5,5,6,7])\n",
    "c=np.dot(A,B)\n",
    "print(c)"
   ]
  },
  {
   "cell_type": "markdown",
   "id": "6ce4bbba",
   "metadata": {},
   "source": [
    " # Vector-Scalar Multiplication\n",
    "A vector can be multiplied by a scalar, in effect scaling the magnitude of the vector. To keep\n",
    "notation simple, we will use lowercase s to represent the scalar value.\n",
    "- c = s × v\n",
    "\n",
    "or\n",
    "- c = sv\n",
    "\n",
    "The multiplication is performed on each element of the vector to result in a new scaled\n",
    "vector of the same length.\n",
    "- c = (s × v1, s × v2, s × v3)"
   ]
  },
  {
   "cell_type": "code",
   "execution_count": 5,
   "id": "576b1c63",
   "metadata": {},
   "outputs": [
    {
     "name": "stdout",
     "output_type": "stream",
     "text": [
      "[ 0  1  2  3  4  5  6  7  8  9 10 11]\n",
      "[0.  0.2 0.4 0.6 0.8 1.  1.2 1.4 1.6 1.8 2.  2.2]\n"
     ]
    }
   ],
   "source": [
    "import numpy as np\n",
    "A=np.arange(12)\n",
    "print(A)\n",
    "B=0.2\n",
    "C=A*B\n",
    "print(C)"
   ]
  },
  {
   "cell_type": "markdown",
   "id": "c1e722af",
   "metadata": {},
   "source": [
    "# **Vector Norm**\n",
    "Calculating the size or length of a vector is often required either directly or as part of a broader\n",
    "vector or vector-matrix operation. The length of the vector is referred to as the vector norm or\n",
    "the vector’s magnitude"
   ]
  },
  {
   "cell_type": "markdown",
   "id": "77c8a3f9",
   "metadata": {},
   "source": [
    "# L1 NORM"
   ]
  },
  {
   "cell_type": "code",
   "execution_count": 4,
   "id": "1bfb6454",
   "metadata": {},
   "outputs": [
    {
     "name": "stdout",
     "output_type": "stream",
     "text": [
      "[ 0  1  2  3  4  5  6  7  8  9 10 11]\n",
      "66.0\n"
     ]
    }
   ],
   "source": [
    "import numpy as np\n",
    "A=np.arange(12)\n",
    "print(A)\n",
    "Norm=np.linalg.norm(A,1)\n",
    "print(Norm)"
   ]
  },
  {
   "cell_type": "code",
   "execution_count": 9,
   "id": "9eeab89f",
   "metadata": {},
   "outputs": [
    {
     "name": "stdout",
     "output_type": "stream",
     "text": [
      "[ 1  3  4  6  7  6 45  4  3  2]\n",
      "81.0\n"
     ]
    }
   ],
   "source": [
    "import numpy as np\n",
    "A= np.array([1,3,4,6,7,6,45,4,3,2])\n",
    "print(A)\n",
    "Norm=np.linalg.norm(A,1)\n",
    "print(Norm)"
   ]
  },
  {
   "cell_type": "markdown",
   "id": "eb0dae51",
   "metadata": {},
   "source": [
    "# L2 NORM"
   ]
  },
  {
   "cell_type": "code",
   "execution_count": 1,
   "id": "58b833ae",
   "metadata": {},
   "outputs": [
    {
     "name": "stdout",
     "output_type": "stream",
     "text": [
      "16.881943016134134\n"
     ]
    }
   ],
   "source": [
    "import numpy as np\n",
    "A=np.array([1,2,3,4,5,6,7,8,9])\n",
    "l2=np.linalg.norm(A)\n",
    "print(l2)"
   ]
  },
  {
   "cell_type": "markdown",
   "id": "6b978e71",
   "metadata": {},
   "source": [
    "# L3  NORM"
   ]
  },
  {
   "cell_type": "code",
   "execution_count": 3,
   "id": "8f4e2403",
   "metadata": {},
   "outputs": [
    {
     "name": "stdout",
     "output_type": "stream",
     "text": [
      "76.0\n"
     ]
    }
   ],
   "source": [
    "import numpy as np\n",
    "A=np.array([1,2,3,54,65,4,4,5,6,6,5,76])\n",
    "maxnorm=np.linalg.norm(A,np.inf)\n",
    "print(maxnorm)"
   ]
  },
  {
   "cell_type": "markdown",
   "id": "3d8f571b",
   "metadata": {},
   "source": [
    "# Matrices and Matrix Arithmetic\n",
    "- THE DIMMINSION MUST BE SAME"
   ]
  },
  {
   "cell_type": "markdown",
   "id": "3a8a2e3b",
   "metadata": {},
   "source": [
    "- # Matrix Addition"
   ]
  },
  {
   "cell_type": "code",
   "execution_count": 6,
   "id": "44c6fe72",
   "metadata": {},
   "outputs": [
    {
     "name": "stdout",
     "output_type": "stream",
     "text": [
      "[[1 2 3 4 5]\n",
      " [6 7 8 9 6]]\n",
      "\n",
      "\n",
      "[[4 6 7 8 6]\n",
      " [6 8 4 3 6]]\n",
      "\n",
      "\n",
      "[[ 5  8 10 12 11]\n",
      " [12 15 12 12 12]]\n"
     ]
    }
   ],
   "source": [
    "import numpy as np\n",
    "A=np.array([[1,2,3,4,5],[6,7,8,9,6]])\n",
    "print(A)\n",
    "print(\"\\n\")\n",
    "B=np.array([[4,6,7,8,6],[6,8,4,3,6]])\n",
    "print(B)\n",
    "C=A+B\n",
    "print(\"\\n\")\n",
    "print(C)"
   ]
  },
  {
   "cell_type": "markdown",
   "id": "060a4a3a",
   "metadata": {},
   "source": [
    "- # Matrix Subtraction"
   ]
  },
  {
   "cell_type": "code",
   "execution_count": 10,
   "id": "b4fbe588",
   "metadata": {},
   "outputs": [
    {
     "name": "stdout",
     "output_type": "stream",
     "text": [
      "[[5 7 6 4 7]\n",
      " [3 5 6 6 4]]\n",
      "\n",
      "\n",
      "[[2 4 5 6 7]\n",
      " [5 8 5 4 3]]\n",
      "\n",
      "\n",
      "[[ 3  3  1 -2  0]\n",
      " [-2 -3  1  2  1]]\n"
     ]
    }
   ],
   "source": [
    "import numpy as np\n",
    "A=np.array([[5,7,6,4,7],[3,5,6,6,4]])\n",
    "print(A)\n",
    "print(\"\\n\")\n",
    "B=np.array([[2,4,5,6,7],[5,8,5,4,3]])\n",
    "print(B)\n",
    "print(\"\\n\")\n",
    "C=A-B\n",
    "print(C)"
   ]
  },
  {
   "cell_type": "code",
   "execution_count": null,
   "id": "ad9125c2",
   "metadata": {},
   "outputs": [],
   "source": []
  }
 ],
 "metadata": {
  "kernelspec": {
   "display_name": "Python 3",
   "language": "python",
   "name": "python3"
  },
  "language_info": {
   "codemirror_mode": {
    "name": "ipython",
    "version": 3
   },
   "file_extension": ".py",
   "mimetype": "text/x-python",
   "name": "python",
   "nbconvert_exporter": "python",
   "pygments_lexer": "ipython3",
   "version": "3.13.6"
  }
 },
 "nbformat": 4,
 "nbformat_minor": 5
}
