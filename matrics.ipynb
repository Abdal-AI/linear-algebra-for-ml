{
 "cells": [
  {
   "cell_type": "markdown",
   "id": "04517b79",
   "metadata": {},
   "source": [
    "# **MATRICS**"
   ]
  },
  {
   "cell_type": "markdown",
   "id": "5a0b696d",
   "metadata": {},
   "source": [
    "# VECTOR\n",
    "- IT is numpy array\n",
    "- example\n",
    "**A=np.array([1,2,3,4,5])**"
   ]
  },
  {
   "cell_type": "markdown",
   "id": "31bdeca5",
   "metadata": {},
   "source": [
    "# Vector Addition\n",
    "Two vectors of equal length can be added together to create a new third vector.\n",
    "c = a + b\n",
    "\n",
    "The new vector has the same length as the other two vectors. Each element of the new\n",
    "vector is calculated as the addition of the elements of the other vectors at the same index; for\n",
    "example:\n",
    "c = (a1 + b1, a2 + b2, a3 + b3)"
   ]
  },
  {
   "cell_type": "code",
   "execution_count": 1,
   "id": "0a386d4b",
   "metadata": {},
   "outputs": [
    {
     "name": "stdout",
     "output_type": "stream",
     "text": [
      "[10 10 10 10 10 10 10 10 10]\n"
     ]
    }
   ],
   "source": [
    "import numpy as np\n",
    "A=np.array([1,2,3,4,5,6,7,8,9])\n",
    "B=np.array([9,8,7,6,5,4,3,2,1])\n",
    "C=A+B\n",
    "print(C)"
   ]
  },
  {
   "cell_type": "markdown",
   "id": "9932f57e",
   "metadata": {},
   "source": [
    " # Vector Subtraction\n",
    "One vector can be subtracted from another vector of equal length to create a new third vector.\n",
    "- c = a − b\n",
    "\n",
    "\n",
    " - As with addition, the new vector has the same length as the parent vectors and each element\n",
    "of the new vector is calculated as the subtraction of the elements at the same indices.\n",
    "c = (a1 − b1, a2 − b2, a3 − b3)"
   ]
  },
  {
   "cell_type": "code",
   "execution_count": 2,
   "id": "c7a0f1a2",
   "metadata": {},
   "outputs": [
    {
     "name": "stdout",
     "output_type": "stream",
     "text": [
      "[-1  1  0  0  3  5]\n"
     ]
    }
   ],
   "source": [
    "import numpy as np\n",
    "A=np.array([2,4,5,6,7,8])\n",
    "B=np.array([3,3,5,6,4,3])\n",
    "C=A-B\n",
    "print(C)"
   ]
  },
  {
   "cell_type": "markdown",
   "id": "900a8b72",
   "metadata": {},
   "source": [
    " # Vector Multiplication\n",
    "Two vectors of equal length can be multiplied together.\n",
    "- c = a × b\n",
    "\n",
    "As with addition and subtraction, this operation is performed element-wise to result in a\n",
    "new vector of the same length.\n",
    "- c = (a1 × b1, a2 × b2, a3 × b3)\n",
    "\n",
    "or\n",
    " - c = (a1b1, a2b2, a3b3)"
   ]
  },
  {
   "cell_type": "code",
   "execution_count": 1,
   "id": "1ec0e375",
   "metadata": {},
   "outputs": [
    {
     "name": "stdout",
     "output_type": "stream",
     "text": [
      "[10 18 16 20 12]\n"
     ]
    }
   ],
   "source": [
    "import numpy as np\n",
    "A=np.array([2,3,4,5,6])\n",
    "B=np.array([5,6,4,4,2])\n",
    "C=A*B\n",
    "print(C)"
   ]
  },
  {
   "cell_type": "markdown",
   "id": "930da6fb",
   "metadata": {},
   "source": [
    " # Vector Division\n",
    "Two vectors of equal length can be divided.\n",
    "- c = a/b\n",
    "\n",
    "As with other arithmetic operations, this operation is performed element-wise to result in a\n",
    "new vector of the same length.\n",
    " - c = (a1\n",
    "b1\n",
    ", a2\n",
    "b2\n",
    ", a3\n",
    "b3\n",
    ")"
   ]
  },
  {
   "cell_type": "code",
   "execution_count": 2,
   "id": "a45ad2e2",
   "metadata": {},
   "outputs": [
    {
     "name": "stdout",
     "output_type": "stream",
     "text": [
      "[0.66666667 0.6        0.66666667 0.71428571 0.85714286 1.16666667]\n"
     ]
    }
   ],
   "source": [
    "import numpy as np\n",
    "A=np.array([2,3,4,5,6,7])\n",
    "B=np.array([3,5,6,7,7,6])\n",
    "C=A/B\n",
    "print(C)"
   ]
  },
  {
   "cell_type": "markdown",
   "id": "696e49bf",
   "metadata": {},
   "source": [
    " # Vector Dot Product\n",
    "We can calculate the sum of the multiplied elements of two vectors of the same length to give a\n",
    "scalar. This is called the dot product, named because of the dot operator used when describing\n",
    "the operation.\n",
    "The dot product is the key tool for calculating vector projections, vector decomposi-\n",
    "tions, and determining orthogonality. The name dot product comes from the symbol\n",
    "used to denote it.\n",
    "\n",
    "- c = a · b\n",
    "\n",
    "The operation can be used in machine learning to calculate the weighted sum of a vector.\n",
    "The dot product is calculated as follows:\n",
    "- c = (a1 × b1 + a2 × b2 + a3 × b3)\n",
    "\n",
    "or\n",
    " - c = (a1b1 + a2b2 + a3b3)\n",
    "\n",
    "We can calculate the dot product between two vectors in Python using the dot() function\n",
    "on a NumPy array."
   ]
  },
  {
   "cell_type": "code",
   "execution_count": 3,
   "id": "7f9b9223",
   "metadata": {},
   "outputs": [
    {
     "name": "stdout",
     "output_type": "stream",
     "text": [
      "139\n"
     ]
    }
   ],
   "source": [
    "import numpy as np\n",
    "A=np.array([2,3,4,5,6,5])\n",
    "B=np.array([4,5,5,5,6,7])\n",
    "c=np.dot(A,B)\n",
    "print(c)"
   ]
  },
  {
   "cell_type": "markdown",
   "id": "6ce4bbba",
   "metadata": {},
   "source": [
    " # Vector-Scalar Multiplication\n",
    "A vector can be multiplied by a scalar, in effect scaling the magnitude of the vector. To keep\n",
    "notation simple, we will use lowercase s to represent the scalar value.\n",
    "- c = s × v\n",
    "\n",
    "or\n",
    "- c = sv\n",
    "\n",
    "The multiplication is performed on each element of the vector to result in a new scaled\n",
    "vector of the same length.\n",
    "- c = (s × v1, s × v2, s × v3)"
   ]
  },
  {
   "cell_type": "code",
   "execution_count": 5,
   "id": "576b1c63",
   "metadata": {},
   "outputs": [
    {
     "name": "stdout",
     "output_type": "stream",
     "text": [
      "[ 0  1  2  3  4  5  6  7  8  9 10 11]\n",
      "[0.  0.2 0.4 0.6 0.8 1.  1.2 1.4 1.6 1.8 2.  2.2]\n"
     ]
    }
   ],
   "source": [
    "import numpy as np\n",
    "A=np.arange(12)\n",
    "print(A)\n",
    "B=0.2\n",
    "C=A*B\n",
    "print(C)"
   ]
  },
  {
   "cell_type": "markdown",
   "id": "c1e722af",
   "metadata": {},
   "source": [
    "# **Vector Norm**\n",
    "Calculating the size or length of a vector is often required either directly or as part of a broader\n",
    "vector or vector-matrix operation. The length of the vector is referred to as the vector norm or\n",
    "the vector’s magnitude"
   ]
  },
  {
   "cell_type": "markdown",
   "id": "77c8a3f9",
   "metadata": {},
   "source": [
    "# L1 NORM"
   ]
  },
  {
   "cell_type": "code",
   "execution_count": 4,
   "id": "1bfb6454",
   "metadata": {},
   "outputs": [
    {
     "name": "stdout",
     "output_type": "stream",
     "text": [
      "[ 0  1  2  3  4  5  6  7  8  9 10 11]\n",
      "66.0\n"
     ]
    }
   ],
   "source": [
    "import numpy as np\n",
    "A=np.arange(12)\n",
    "print(A)\n",
    "Norm=np.linalg.norm(A,1)\n",
    "print(Norm)"
   ]
  },
  {
   "cell_type": "code",
   "execution_count": 9,
   "id": "9eeab89f",
   "metadata": {},
   "outputs": [
    {
     "name": "stdout",
     "output_type": "stream",
     "text": [
      "[ 1  3  4  6  7  6 45  4  3  2]\n",
      "81.0\n"
     ]
    }
   ],
   "source": [
    "import numpy as np\n",
    "A= np.array([1,3,4,6,7,6,45,4,3,2])\n",
    "print(A)\n",
    "Norm=np.linalg.norm(A,1)\n",
    "print(Norm)"
   ]
  },
  {
   "cell_type": "markdown",
   "id": "eb0dae51",
   "metadata": {},
   "source": [
    "# L2 NORM"
   ]
  },
  {
   "cell_type": "code",
   "execution_count": 1,
   "id": "58b833ae",
   "metadata": {},
   "outputs": [
    {
     "name": "stdout",
     "output_type": "stream",
     "text": [
      "16.881943016134134\n"
     ]
    }
   ],
   "source": [
    "import numpy as np\n",
    "A=np.array([1,2,3,4,5,6,7,8,9])\n",
    "l2=np.linalg.norm(A)\n",
    "print(l2)"
   ]
  },
  {
   "cell_type": "markdown",
   "id": "6b978e71",
   "metadata": {},
   "source": [
    "# L3  NORM"
   ]
  },
  {
   "cell_type": "code",
   "execution_count": 3,
   "id": "8f4e2403",
   "metadata": {},
   "outputs": [
    {
     "name": "stdout",
     "output_type": "stream",
     "text": [
      "76.0\n"
     ]
    }
   ],
   "source": [
    "import numpy as np\n",
    "A=np.array([1,2,3,54,65,4,4,5,6,6,5,76])\n",
    "maxnorm=np.linalg.norm(A,np.inf)\n",
    "print(maxnorm)"
   ]
  },
  {
   "cell_type": "markdown",
   "id": "3d8f571b",
   "metadata": {},
   "source": [
    "# Matrices and Matrix Arithmetic\n",
    "- THE DIMMINSION MUST BE SAME"
   ]
  },
  {
   "cell_type": "markdown",
   "id": "3a8a2e3b",
   "metadata": {},
   "source": [
    "- # Matrix Addition"
   ]
  },
  {
   "cell_type": "code",
   "execution_count": 6,
   "id": "44c6fe72",
   "metadata": {},
   "outputs": [
    {
     "name": "stdout",
     "output_type": "stream",
     "text": [
      "[[1 2 3 4 5]\n",
      " [6 7 8 9 6]]\n",
      "\n",
      "\n",
      "[[4 6 7 8 6]\n",
      " [6 8 4 3 6]]\n",
      "\n",
      "\n",
      "[[ 5  8 10 12 11]\n",
      " [12 15 12 12 12]]\n"
     ]
    }
   ],
   "source": [
    "import numpy as np\n",
    "A=np.array([[1,2,3,4,5],[6,7,8,9,6]])\n",
    "print(A)\n",
    "print(\"\\n\")\n",
    "B=np.array([[4,6,7,8,6],[6,8,4,3,6]])\n",
    "print(B)\n",
    "C=A+B\n",
    "print(\"\\n\")\n",
    "print(C)"
   ]
  },
  {
   "cell_type": "markdown",
   "id": "060a4a3a",
   "metadata": {},
   "source": [
    "- # Matrix Subtraction"
   ]
  },
  {
   "cell_type": "code",
   "execution_count": 10,
   "id": "b4fbe588",
   "metadata": {},
   "outputs": [
    {
     "name": "stdout",
     "output_type": "stream",
     "text": [
      "[[5 7 6 4 7]\n",
      " [3 5 6 6 4]]\n",
      "\n",
      "\n",
      "[[2 4 5 6 7]\n",
      " [5 8 5 4 3]]\n",
      "\n",
      "\n",
      "[[ 3  3  1 -2  0]\n",
      " [-2 -3  1  2  1]]\n"
     ]
    }
   ],
   "source": [
    "import numpy as np\n",
    "A=np.array([[5,7,6,4,7],[3,5,6,6,4]])\n",
    "print(A)\n",
    "print(\"\\n\")\n",
    "B=np.array([[2,4,5,6,7],[5,8,5,4,3]])\n",
    "print(B)\n",
    "print(\"\\n\")\n",
    "C=A-B\n",
    "print(C)"
   ]
  },
  {
   "cell_type": "markdown",
   "id": "0aa19851",
   "metadata": {},
   "source": [
    "- # Matrix Multiplication (Hadamard Product)"
   ]
  },
  {
   "cell_type": "code",
   "execution_count": 3,
   "id": "bf64505f",
   "metadata": {},
   "outputs": [
    {
     "name": "stdout",
     "output_type": "stream",
     "text": [
      "[[ 2  3  4  5  6]\n",
      " [ 7  8  9 10 11]]\n",
      "\n",
      "\n",
      "[[3 5 6 7 7]\n",
      " [6 5 4 3 2]]\n",
      "\n",
      "\n",
      "[[ 6 15 24 35 42]\n",
      " [42 40 36 30 22]]\n"
     ]
    }
   ],
   "source": [
    "import numpy as np\n",
    "A=np.array([[2,3,4,5,6],[7,8,9,10,11]])\n",
    "print(A)\n",
    "print(\"\\n\")\n",
    "B=np.array([[3,5,6,7,7],[6,5,4,3,2]])\n",
    "print(B)\n",
    "C= A*B\n",
    "print(\"\\n\") \n",
    "print(C)"
   ]
  },
  {
   "cell_type": "markdown",
   "id": "36cb02f3",
   "metadata": {},
   "source": [
    "- # Matrix Division"
   ]
  },
  {
   "cell_type": "code",
   "execution_count": 4,
   "id": "3e145333",
   "metadata": {},
   "outputs": [
    {
     "name": "stdout",
     "output_type": "stream",
     "text": [
      "[[3 4 5 6 7]\n",
      " [5 7 8 5 4]]\n",
      "\n",
      "\n",
      "[[ 2  3  4  5  6]\n",
      " [ 7  8  9 10 11]]\n",
      "\n",
      "\n",
      "[[1.5        1.33333333 1.25       1.2        1.16666667]\n",
      " [0.71428571 0.875      0.88888889 0.5        0.36363636]]\n"
     ]
    }
   ],
   "source": [
    "import numpy as np\n",
    "A=np.array([[3,4,5,6,7],[5,7,8,5,4]])\n",
    "print(A)\n",
    "print(\"\\n\")\n",
    "B=np.array([[2,3,4,5,6],[7,8,9,10,11]])\n",
    "print(B)\n",
    "C=A/B\n",
    "print(\"\\n\")\n",
    "\n",
    "print(C)"
   ]
  },
  {
   "cell_type": "markdown",
   "id": "f759c5e6",
   "metadata": {},
   "source": [
    "- # Matrix-Matrix Multiplication\n",
    "- dot multiflication"
   ]
  },
  {
   "cell_type": "code",
   "execution_count": 10,
   "id": "c567e999",
   "metadata": {},
   "outputs": [
    {
     "name": "stdout",
     "output_type": "stream",
     "text": [
      "[[2 4 7 5 4 3]\n",
      " [5 6 4 7 3 4]]\n",
      "\n",
      "\n",
      "[[4 6 4 3 5 6]\n",
      " [5 7 5 3 4 5]]\n",
      "[[4 5]\n",
      " [6 7]\n",
      " [4 5]\n",
      " [3 3]\n",
      " [5 4]\n",
      " [6 5]]\n",
      "\n",
      "\n",
      "[[113 119]\n",
      " [132 140]]\n"
     ]
    }
   ],
   "source": [
    "import numpy as np\n",
    "A=np.array([[2,4,7,5,4,3],[5,6,4,7,3,4]])\n",
    "print(A)\n",
    "print(\"\\n\")\n",
    "B=np.array([[4,6,4,3,5,6],[5,7,5,3,4,5]])\n",
    "print(B)\n",
    "bt=B.T\n",
    "print(bt)\n",
    "C=A.dot(bt)\n",
    "print(\"\\n\")\n",
    "print(C)"
   ]
  },
  {
   "cell_type": "markdown",
   "id": "49bb79e9",
   "metadata": {},
   "source": [
    " - # Matrix-Vector Multiplication"
   ]
  },
  {
   "cell_type": "code",
   "execution_count": null,
   "id": "6c9a3c88",
   "metadata": {},
   "outputs": [
    {
     "name": "stdout",
     "output_type": "stream",
     "text": [
      "[[ 2  3  4  5  6]\n",
      " [ 7  8  9 10 11]]\n",
      "\n",
      "\n",
      "[ 70 145]\n"
     ]
    }
   ],
   "source": [
    "import numpy as  np\n",
    "A=np.array([[2,3,4,5,6],\n",
    "            [7,8,9,10,11]])\n",
    "print(A)\n",
    "b=np.array([1,2,3,4,5])\n",
    "C=A.dot(b)\n",
    "print(\"\\n\")\n",
    "print(C)"
   ]
  },
  {
   "cell_type": "markdown",
   "id": "45a6ab34",
   "metadata": {},
   "source": [
    "- # Matrix-Scalar Multiplication"
   ]
  },
  {
   "cell_type": "code",
   "execution_count": 2,
   "id": "b64c4949",
   "metadata": {},
   "outputs": [
    {
     "name": "stdout",
     "output_type": "stream",
     "text": [
      "[[1 2 3]\n",
      " [4 5 6]\n",
      " [7 8 9]]\n",
      "[[ 3  6  9]\n",
      " [12 15 18]\n",
      " [21 24 27]]\n"
     ]
    }
   ],
   "source": [
    "import numpy as np\n",
    "A=np.array([[1,2,3],[4,5,6],[7,8,9]])\n",
    "print(A)\n",
    "B=3\n",
    "C=A*B\n",
    "print(C)"
   ]
  },
  {
   "cell_type": "markdown",
   "id": "2eab694a",
   "metadata": {},
   "source": [
    "# Types of Matrices"
   ]
  },
  {
   "cell_type": "markdown",
   "id": "db1bdda7",
   "metadata": {},
   "source": [
    "-  # Square Matrix\n",
    "- the nuber of row equal to number of column\n",
    "- n=m"
   ]
  },
  {
   "cell_type": "code",
   "execution_count": 4,
   "id": "0a43d5b5",
   "metadata": {},
   "outputs": [
    {
     "name": "stdout",
     "output_type": "stream",
     "text": [
      "---------SXUARE MATRIX---------\n",
      "[[1 2 3]\n",
      " [4 5 6]\n",
      " [7 8 9]]\n"
     ]
    }
   ],
   "source": [
    "import numpy as np\n",
    "\n",
    "A=np.array([[1,2,3],[4,5,6],[7,8,9]])\n",
    "print(\"---------SXUARE MATRIX---------\")\n",
    "print(A)"
   ]
  },
  {
   "cell_type": "markdown",
   "id": "3432c87f",
   "metadata": {},
   "source": [
    "- # Symmetric Matrix\n",
    "- A=A^t"
   ]
  },
  {
   "cell_type": "code",
   "execution_count": 6,
   "id": "e4a8853c",
   "metadata": {},
   "outputs": [
    {
     "name": "stdout",
     "output_type": "stream",
     "text": [
      "---------SYMMETRIC MATRIX---------\n",
      "[[1 2 3 4 5]\n",
      " [2 1 2 3 4]\n",
      " [3 2 1 2 3]\n",
      " [4 3 2 1 2]\n",
      " [5 4 3 2 1]]\n",
      "\n",
      "\n",
      "Transpose of the matrix:\n",
      "[[1 2 3 4 5]\n",
      " [2 1 2 3 4]\n",
      " [3 2 1 2 3]\n",
      " [4 3 2 1 2]\n",
      " [5 4 3 2 1]]\n"
     ]
    }
   ],
   "source": [
    "import numpy as np\n",
    "A=np.array([[1,2,3,4,5],\n",
    "           [2,1,2,3,4],\n",
    "           [3,2,1,2,3],\n",
    "           [4,3,2,1,2],\n",
    "           [5,4,3,2,1]])\n",
    "print(\"---------SYMMETRIC MATRIX---------\")\n",
    "print(A)\n",
    "At=A.T\n",
    "print(\"\\n\") \n",
    "print(\"Transpose of the matrix:\")\n",
    "print(At)"
   ]
  },
  {
   "cell_type": "markdown",
   "id": "2749ffee",
   "metadata": {},
   "source": [
    "- # Triangular Matrix"
   ]
  },
  {
   "cell_type": "code",
   "execution_count": 4,
   "id": "745a8402",
   "metadata": {},
   "outputs": [
    {
     "name": "stdout",
     "output_type": "stream",
     "text": [
      "---------DIAGONAL MATRIX---------\n",
      "[[1 2 3 4 5]\n",
      " [4 6 7 8 9]\n",
      " [2 3 4 5 6]\n",
      " [3 4 5 6 7]\n",
      " [1 2 3 4 5]]\n",
      "\n",
      "\n",
      "Upper triangular part of the matrix:\n",
      "[[1 2 3 4 5]\n",
      " [0 6 7 8 9]\n",
      " [0 0 4 5 6]\n",
      " [0 0 0 6 7]\n",
      " [0 0 0 0 5]]\n",
      "\n",
      "\n",
      "Lower triangular part of the matrix:\n",
      "[[1 0 0 0 0]\n",
      " [4 6 0 0 0]\n",
      " [2 3 4 0 0]\n",
      " [3 4 5 6 0]\n",
      " [1 2 3 4 5]]\n"
     ]
    }
   ],
   "source": [
    "import numpy as np\n",
    "A=np.array([[1,2,3,4,5],\n",
    "            [4,6,7,8,9],\n",
    "            [2,3,4,5,6],\n",
    "            [3,4,5,6,7],\n",
    "            [1,2,3,4,5]])\n",
    "print(\"---------DIAGONAL MATRIX---------\")\n",
    "print(A)\n",
    "upper_triangle = np.triu(A)\n",
    "print(\"\\n\")\n",
    "print(\"Upper triangular part of the matrix:\")\n",
    "print(upper_triangle)\n",
    "lower_triangle = np.tril(A)\n",
    "print(\"\\n\") \n",
    "print(\"Lower triangular part of the matrix:\")\n",
    "print(lower_triangle)"
   ]
  },
  {
   "cell_type": "markdown",
   "id": "1d1690f1",
   "metadata": {},
   "source": [
    "# Matrix Operations"
   ]
  },
  {
   "cell_type": "markdown",
   "id": "7e6b3603",
   "metadata": {},
   "source": [
    "1. Transpose\n",
    "2. Inverse\n",
    "3. Trace\n",
    "4. Determinant\n",
    "5. Rank\n"
   ]
  },
  {
   "cell_type": "markdown",
   "id": "0cde931a",
   "metadata": {},
   "source": [
    "# 1. Transpose"
   ]
  },
  {
   "cell_type": "code",
   "execution_count": 3,
   "id": "1c92f689",
   "metadata": {},
   "outputs": [
    {
     "name": "stdout",
     "output_type": "stream",
     "text": [
      "[[1 2 3 4 5]\n",
      " [5 6 7 8 9]\n",
      " [9 8 7 6 5]\n",
      " [4 3 2 1 0]\n",
      " [0 1 2 3 4]]\n",
      "\n",
      "\n",
      "[[1 5 9 4 0]\n",
      " [2 6 8 3 1]\n",
      " [3 7 7 2 2]\n",
      " [4 8 6 1 3]\n",
      " [5 9 5 0 4]]\n"
     ]
    }
   ],
   "source": [
    "import numpy as np\n",
    "A=np.array([[1,2,3,4,5],\n",
    "            [5,6,7,8,9],\n",
    "            [9,8,7,6,5],\n",
    "            [4,3,2,1,0],\n",
    "            [0,1,2,3,4]])\n",
    "print(A)\n",
    "print(\"\\n\")\n",
    "tanspose=A.T\n",
    "print(tanspose)"
   ]
  },
  {
   "cell_type": "markdown",
   "id": "48f0c33a",
   "metadata": {},
   "source": [
    "# 2. Inverse\n"
   ]
  },
  {
   "cell_type": "code",
   "execution_count": 11,
   "id": "1db5b815",
   "metadata": {},
   "outputs": [
    {
     "name": "stdout",
     "output_type": "stream",
     "text": [
      "[[1 2 3]\n",
      " [4 7 6]\n",
      " [7 8 9]]\n",
      "\n",
      "\n",
      "-24.000000000000004\n",
      "\n",
      "\n",
      "[[-0.625      -0.25        0.375     ]\n",
      " [-0.25        0.5        -0.25      ]\n",
      " [ 0.70833333 -0.25        0.04166667]]\n"
     ]
    }
   ],
   "source": [
    "import numpy as np\n",
    "A=np.array([[1,2,3],[4,7,6],[7,8,9]])\n",
    "print(A)\n",
    "print(\"\\n\")\n",
    "det=np.linalg.det(A)\n",
    "print(det)\n",
    "print(\"\\n\")\n",
    "b=np.linalg.inv(A)\n",
    "print(b)\n",
    "\n"
   ]
  },
  {
   "cell_type": "markdown",
   "id": "2b3456a0",
   "metadata": {},
   "source": [
    "# 3. Trace"
   ]
  },
  {
   "cell_type": "code",
   "execution_count": 13,
   "id": "519932e8",
   "metadata": {},
   "outputs": [
    {
     "name": "stdout",
     "output_type": "stream",
     "text": [
      "[[1 2 3]\n",
      " [2 3 4]\n",
      " [3 4 5]]\n",
      "\n",
      "\n",
      "9\n"
     ]
    }
   ],
   "source": [
    "import numpy as np\n",
    "A=np.array([[1,2,3],[2,3,4],[3,4,5]])\n",
    "print(A)\n",
    "print(\"\\n\")\n",
    "trace=np.linalg.trace(A)\n",
    "print(trace)"
   ]
  },
  {
   "cell_type": "markdown",
   "id": "0eea4775",
   "metadata": {},
   "source": [
    "# 4. Determinant"
   ]
  },
  {
   "cell_type": "code",
   "execution_count": 17,
   "id": "e63bb6e1",
   "metadata": {},
   "outputs": [
    {
     "name": "stdout",
     "output_type": "stream",
     "text": [
      "[[1 2 3 4 5]\n",
      " [5 6 7 8 9]\n",
      " [9 8 7 6 5]\n",
      " [4 3 2 1 0]\n",
      " [0 1 9 3 4]]\n",
      "\n",
      "\n",
      "3.865418435582966e-29\n"
     ]
    }
   ],
   "source": [
    "import numpy as np\n",
    "A=np.array([[1,2,3,4,5],\n",
    "            [5,6,7,8,9],\n",
    "            [9,8,7,6,5],\n",
    "            [4,3,2,1,0],\n",
    "            [0,1,9,3,4]])\n",
    "print(A)\n",
    "print(\"\\n\")\n",
    "det=np.linalg.det(A)\n",
    "print(det)"
   ]
  },
  {
   "cell_type": "markdown",
   "id": "5fe20742",
   "metadata": {},
   "source": [
    " # 5. Rank\n"
   ]
  },
  {
   "cell_type": "code",
   "execution_count": 2,
   "id": "5ae6b496",
   "metadata": {},
   "outputs": [
    {
     "name": "stdout",
     "output_type": "stream",
     "text": [
      "[[1 2 3]\n",
      " [4 5 6]\n",
      " [7 8 9]]\n",
      "\n",
      "\n",
      "2\n"
     ]
    }
   ],
   "source": [
    "import numpy as np\n",
    "A=np.array([[1,2,3],[4,5,6],[7,8,9]])\n",
    "print(A)\n",
    "rank=np.linalg.matrix_rank(A)\n",
    "print(\"\\n\") \n",
    "print(rank)"
   ]
  },
  {
   "cell_type": "markdown",
   "id": "c04f9b30",
   "metadata": {},
   "source": [
    "# Sparse Matrices\n",
    "1. Sparse Matrix\n",
    "2. Problems with Sparsity\n",
    "3. Sparse Matrices in Machine Learning\n",
    "4. Working with Sparse Matrices\n",
    "5. Sparse Matrices in Python"
   ]
  },
  {
   "cell_type": "code",
   "execution_count": 5,
   "id": "727f4031",
   "metadata": {},
   "outputs": [
    {
     "name": "stdout",
     "output_type": "stream",
     "text": [
      "[[2 0 0 0 0]\n",
      " [0 0 0 7 0]\n",
      " [0 0 0 0 0]\n",
      " [0 0 8 0 0]\n",
      " [0 0 0 0 9]]\n",
      "\n",
      "\n",
      "<Compressed Sparse Row sparse matrix of dtype 'int64'\n",
      "\twith 4 stored elements and shape (5, 5)>\n",
      "  Coords\tValues\n",
      "  (0, 0)\t2\n",
      "  (1, 3)\t7\n",
      "  (3, 2)\t8\n",
      "  (4, 4)\t9\n",
      "size: (5, 5)\n",
      "sparsity: 0.84\n"
     ]
    }
   ],
   "source": [
    "import numpy as np\n",
    "import scipy.sparse as sp\n",
    "\n",
    "\n",
    "A = np.array([[2, 0, 0, 0, 0],\n",
    "              [0, 0, 0, 7, 0],\n",
    "              [0, 0, 0, 0, 0],\n",
    "              [0, 0, 8, 0, 0],\n",
    "              [0, 0, 0, 0, 9]])\n",
    "print(A)\n",
    "\n",
    "sparse_matrix = sp.csr_matrix(A)\n",
    "print(\"\\n\")\n",
    "print(sparse_matrix)\n",
    "\n",
    "print(f\"size: {A.shape}\")\n",
    "\n",
    "sparsity = 1.0 - np.count_nonzero(A) / A.size\n",
    "print(f\"sparsity: {sparsity}\")"
   ]
  },
  {
   "cell_type": "code",
   "execution_count": null,
   "id": "f007d7ff",
   "metadata": {},
   "outputs": [
    {
     "name": "stdout",
     "output_type": "stream",
     "text": [
      "The full dense matrix looks like this:\n",
      "[[0 0 3 0 4]\n",
      " [0 0 5 7 0]\n",
      " [0 0 0 0 0]\n",
      " [0 2 6 0 0]]\n",
      "\n",
      "But the sparse matrix only stores the 'oases':\n",
      "<Compressed Sparse Row sparse matrix of dtype 'int64'\n",
      "\twith 6 stored elements and shape (4, 5)>\n",
      "  Coords\tValues\n",
      "  (0, 2)\t3\n",
      "  (0, 4)\t4\n",
      "  (1, 2)\t5\n",
      "  (1, 3)\t7\n",
      "  (3, 1)\t2\n",
      "  (3, 2)\t6\n",
      "\n",
      "Its CSR arrays are:\n",
      " data (values): [3 4 5 7 2 6]\n",
      " col indices:   [2 4 2 3 1 2]\n",
      " row pointers:  [0 2 4 4 6]\n",
      "\n",
      "Result of multiplying the sparse matrix by a vector: [29 43  0 22]\n"
     ]
    }
   ],
   "source": [
    "import numpy as np\n",
    "from scipy.sparse import csr_matrix\n",
    "\n",
    "\n",
    "dense_Matrix = np.array([\n",
    "  [0, 0, 3, 0, 4],\n",
    "  [0, 0, 5, 7, 0],\n",
    "  [0, 0, 0, 0, 0],\n",
    "  [0, 2, 6, 0, 0]\n",
    "])\n",
    "\n",
    "\n",
    "sparse_matrix = csr_matrix(dense_Matrix)\n",
    "\n",
    "print(\"The full dense matrix looks like this:\")\n",
    "print(dense_Matrix)\n",
    "print(\"\\nBut the sparse matrix only stores the 'oases':\")\n",
    "print(sparse_matrix)\n",
    "\n",
    "print(\"\\nIts CSR arrays are:\")\n",
    "print(\" data (values):\", sparse_matrix.data)\n",
    "print(\" col indices:  \", sparse_matrix.indices)\n",
    "print(\" row pointers: \", sparse_matrix.indptr)\n",
    "\n",
    "\n",
    "vector = np.array([1, 2, 3, 4, 5])\n",
    "result = sparse_matrix.dot(vector) \n",
    "print(\"\\nResult of multiplying the sparse matrix by a vector:\", result)\n"
   ]
  },
  {
   "cell_type": "markdown",
   "id": "e943667e",
   "metadata": {},
   "source": [
    "# Tensors and Tensor Arithmetic\n",
    "1. What are Tensors\n",
    "2. Tensors in Python\n",
    "3. Tensor Arithmetic\n",
    "4. Tensor Product"
   ]
  },
  {
   "cell_type": "markdown",
   "id": "2cfed892",
   "metadata": {},
   "source": [
    "# What are Tensors\n",
    "A tensor is a generalization of vectors and matrices and is easily understood as a multidimensional\n",
    "array"
   ]
  },
  {
   "cell_type": "code",
   "execution_count": 8,
   "id": "97b9dc75",
   "metadata": {},
   "outputs": [
    {
     "name": "stdout",
     "output_type": "stream",
     "text": [
      "[[[ 1  2  3]\n",
      "  [ 4  5  6]\n",
      "  [ 7  8  9]]\n",
      "\n",
      " [[11 12 13]\n",
      "  [14 15 16]\n",
      "  [17 18 19]]\n",
      "\n",
      " [[21 22 23]\n",
      "  [24 25 26]\n",
      "  [27 28 29]]]\n"
     ]
    }
   ],
   "source": [
    "import numpy as np\n",
    "A=np.array([\n",
    "[[1,2,3],\n",
    "[4,5,6],\n",
    "[7,8,9]],\n",
    "[[11,12,13], [14,15,16], [17,18,19]],\n",
    "[[21,22,23], [24,25,26], [27,28,29]]])\n",
    "print(A)"
   ]
  },
  {
   "cell_type": "markdown",
   "id": "cc055fc8",
   "metadata": {},
   "source": [
    "#  ADDITION OF TENSOR"
   ]
  },
  {
   "cell_type": "code",
   "execution_count": 12,
   "id": "37215059",
   "metadata": {},
   "outputs": [
    {
     "name": "stdout",
     "output_type": "stream",
     "text": [
      " 3D array (tensor) 1\n",
      "[[[ 1  2  3]\n",
      "  [ 4  5  6]\n",
      "  [ 7  8  9]]\n",
      "\n",
      " [[11 12 13]\n",
      "  [14 15 16]\n",
      "  [17 18 19]]\n",
      "\n",
      " [[21 22 23]\n",
      "  [24 25 26]\n",
      "  [27 28 29]]]\n",
      " 3D array (tensor) 2\n",
      "[[[ 1  2  3]\n",
      "  [ 4  5  6]\n",
      "  [ 7  8  9]]\n",
      "\n",
      " [[11 12 13]\n",
      "  [14 15 16]\n",
      "  [17 18 19]]\n",
      "\n",
      " [[21 22 23]\n",
      "  [24 25 26]\n",
      "  [27 28 29]]]\n",
      " Addition of two tensors\n",
      "[[[ 2  4  6]\n",
      "  [ 8 10 12]\n",
      "  [14 16 18]]\n",
      "\n",
      " [[22 24 26]\n",
      "  [28 30 32]\n",
      "  [34 36 38]]\n",
      "\n",
      " [[42 44 46]\n",
      "  [48 50 52]\n",
      "  [54 56 58]]]\n"
     ]
    }
   ],
   "source": [
    "import numpy as np\n",
    "print(\" 3D array (tensor) 1\")\n",
    "A=np.array([\n",
    "[[1,2,3],\n",
    "[4,5,6],\n",
    "[7,8,9]],\n",
    "[[11,12,13], [14,15,16], [17,18,19]],\n",
    "[[21,22,23], [24,25,26], [27,28,29]]])\n",
    "print(A)\n",
    "print(\" 3D array (tensor) 2\")\n",
    "B=np.array([\n",
    "[[1,2,3],\n",
    "[4,5,6],\n",
    "[7,8,9]],\n",
    "[[11,12,13], [14,15,16], [17,18,19]],\n",
    "[[21,22,23], [24,25,26], [27,28,29]]])\n",
    "print(B)\n",
    "print(\" Addition of two tensors\")\n",
    "c=A+B\n",
    "print(c)"
   ]
  },
  {
   "cell_type": "markdown",
   "id": "2b02e3c3",
   "metadata": {},
   "source": [
    "# SUBTRACTION"
   ]
  },
  {
   "cell_type": "code",
   "execution_count": 13,
   "id": "8456313a",
   "metadata": {},
   "outputs": [
    {
     "name": "stdout",
     "output_type": "stream",
     "text": [
      " 3D array (tensor) 1\n",
      "[[[ 1  2  3]\n",
      "  [ 4  5  6]\n",
      "  [ 7  8  9]]\n",
      "\n",
      " [[11 12 13]\n",
      "  [14 15 16]\n",
      "  [17 18 19]]\n",
      "\n",
      " [[21 22 23]\n",
      "  [24 25 26]\n",
      "  [27 28 29]]]\n",
      " 3D array (tensor) 2\n",
      "[[[ 1  2  3]\n",
      "  [ 4  5  6]\n",
      "  [ 7  8  9]]\n",
      "\n",
      " [[11 12 13]\n",
      "  [14 15 16]\n",
      "  [17 18 19]]\n",
      "\n",
      " [[21 22 23]\n",
      "  [24 25 26]\n",
      "  [27 28 29]]]\n",
      " SUBTRACTION of two tensors\n",
      "[[[0 0 0]\n",
      "  [0 0 0]\n",
      "  [0 0 0]]\n",
      "\n",
      " [[0 0 0]\n",
      "  [0 0 0]\n",
      "  [0 0 0]]\n",
      "\n",
      " [[0 0 0]\n",
      "  [0 0 0]\n",
      "  [0 0 0]]]\n"
     ]
    }
   ],
   "source": [
    "import numpy as np\n",
    "print(\" 3D array (tensor) 1\")\n",
    "A=np.array([\n",
    "[[1,2,3],\n",
    "[4,5,6],\n",
    "[7,8,9]],\n",
    "[[11,12,13], [14,15,16], [17,18,19]],\n",
    "[[21,22,23], [24,25,26], [27,28,29]]])\n",
    "print(A)\n",
    "print(\" 3D array (tensor) 2\")\n",
    "B=np.array([\n",
    "[[1,2,3],\n",
    "[4,5,6],\n",
    "[7,8,9]],\n",
    "[[11,12,13], [14,15,16], [17,18,19]],\n",
    "[[21,22,23], [24,25,26], [27,28,29]]])\n",
    "print(B)\n",
    "print(\" SUBTRACTION of two tensors\")\n",
    "c=A-B\n",
    "print(c)"
   ]
  },
  {
   "cell_type": "markdown",
   "id": "d6c875d5",
   "metadata": {},
   "source": [
    " # MULTIFLICATION"
   ]
  },
  {
   "cell_type": "code",
   "execution_count": 14,
   "id": "33ca1032",
   "metadata": {},
   "outputs": [
    {
     "name": "stdout",
     "output_type": "stream",
     "text": [
      " 3D array (tensor) 1\n",
      "[[[ 1  2  3]\n",
      "  [ 4  5  6]\n",
      "  [ 7  8  9]]\n",
      "\n",
      " [[11 12 13]\n",
      "  [14 15 16]\n",
      "  [17 18 19]]\n",
      "\n",
      " [[21 22 23]\n",
      "  [24 25 26]\n",
      "  [27 28 29]]]\n",
      " 3D array (tensor) 2\n",
      "[[[ 1  2  3]\n",
      "  [ 4  5  6]\n",
      "  [ 7  8  9]]\n",
      "\n",
      " [[11 12 13]\n",
      "  [14 15 16]\n",
      "  [17 18 19]]\n",
      "\n",
      " [[21 22 23]\n",
      "  [24 25 26]\n",
      "  [27 28 29]]]\n",
      " MULTIFLICATION of two tensors\n",
      "[[[  1   4   9]\n",
      "  [ 16  25  36]\n",
      "  [ 49  64  81]]\n",
      "\n",
      " [[121 144 169]\n",
      "  [196 225 256]\n",
      "  [289 324 361]]\n",
      "\n",
      " [[441 484 529]\n",
      "  [576 625 676]\n",
      "  [729 784 841]]]\n"
     ]
    }
   ],
   "source": [
    "import numpy as np\n",
    "print(\" 3D array (tensor) 1\")\n",
    "A=np.array([\n",
    "[[1,2,3],\n",
    "[4,5,6],\n",
    "[7,8,9]],\n",
    "[[11,12,13], [14,15,16], [17,18,19]],\n",
    "[[21,22,23], [24,25,26], [27,28,29]]])\n",
    "print(A)\n",
    "print(\" 3D array (tensor) 2\")\n",
    "B=np.array([\n",
    "[[1,2,3],\n",
    "[4,5,6],\n",
    "[7,8,9]],\n",
    "[[11,12,13], [14,15,16], [17,18,19]],\n",
    "[[21,22,23], [24,25,26], [27,28,29]]])\n",
    "print(B)\n",
    "print(\" MULTIFLICATION of two tensors\")\n",
    "c=A*B\n",
    "print(c)"
   ]
  },
  {
   "cell_type": "code",
   "execution_count": 16,
   "id": "76bd2be5",
   "metadata": {},
   "outputs": [
    {
     "name": "stdout",
     "output_type": "stream",
     "text": [
      " 3D array (tensor) 1\n",
      "[[[ 1  2  3]\n",
      "  [ 4  5  6]\n",
      "  [ 7  8  9]]\n",
      "\n",
      " [[11 12 13]\n",
      "  [14 15 16]\n",
      "  [17 18 19]]\n",
      "\n",
      " [[21 22 23]\n",
      "  [24 25 26]\n",
      "  [27 28 29]]]\n",
      " 3D array (tensor) 2\n",
      "[[[ 1  2  3]\n",
      "  [ 4  5  6]\n",
      "  [ 7  8  9]]\n",
      "\n",
      " [[11 12 13]\n",
      "  [14 15 16]\n",
      "  [17 18 19]]\n",
      "\n",
      " [[21 22 23]\n",
      "  [24 25 26]\n",
      "  [27 28 29]]]\n",
      " dot multiflication of two tensors\n",
      "[[ 828  873  918]\n",
      " [2088 2223 2358]\n",
      " [3348 3573 3798]]\n"
     ]
    }
   ],
   "source": [
    "import numpy as np\n",
    "print(\" 3D array (tensor) 1\")\n",
    "A=np.array([\n",
    "[[1,2,3],\n",
    "[4,5,6],\n",
    "[7,8,9]],\n",
    "[[11,12,13], [14,15,16], [17,18,19]],\n",
    "[[21,22,23], [24,25,26], [27,28,29]]])\n",
    "print(A)\n",
    "print(\" 3D array (tensor) 2\")\n",
    "B=np.array([\n",
    "[[1,2,3],\n",
    "[4,5,6],\n",
    "[7,8,9]],\n",
    "[[11,12,13], [14,15,16], [17,18,19]],\n",
    "[[21,22,23], [24,25,26], [27,28,29]]])\n",
    "print(B)\n",
    "print(\" dot multiflication of two tensors\")\n",
    "c=np.tensordot(A,B)\n",
    "print(c)"
   ]
  },
  {
   "cell_type": "markdown",
   "id": "792008fa",
   "metadata": {},
   "source": [
    "#  Write your own functions to implement each tensor arithmetic operation"
   ]
  },
  {
   "cell_type": "code",
   "execution_count": 17,
   "id": "3c6a3411",
   "metadata": {},
   "outputs": [
    {
     "name": "stdout",
     "output_type": "stream",
     "text": [
      "Tensor A + Tensor B:\n",
      "[[[3, 4, 5], [6, 7, 8], [9, 10, 11]], [[13, 14, 15], [16, 17, 18], [19, 20, 21]], [[23, 24, 25], [26, 27, 28], [29, 30, 31]]]\n",
      "\n",
      "Tensor A - Tensor B:\n",
      "[[[-1, 0, 1], [2, 3, 4], [5, 6, 7]], [[9, 10, 11], [12, 13, 14], [15, 16, 17]], [[19, 20, 21], [22, 23, 24], [25, 26, 27]]]\n",
      "\n",
      "Tensor A * Tensor B (element-wise):\n",
      "[[[2, 4, 6], [8, 10, 12], [14, 16, 18]], [[22, 24, 26], [28, 30, 32], [34, 36, 38]], [[42, 44, 46], [48, 50, 52], [54, 56, 58]]]\n"
     ]
    }
   ],
   "source": [
    "def tensor_add(tensor1, tensor2):\n",
    "    if len(tensor1) != len(tensor2) or len(tensor1[0]) != len(tensor2[0]) or len(tensor1[0][0]) != len(tensor2[0][0]):\n",
    "        raise ValueError(\"Tensors must have the same shape for addition.\")\n",
    "    \n",
    "    depth = len(tensor1)\n",
    "    rows = len(tensor1[0])\n",
    "    cols = len(tensor1[0][0])\n",
    "    \n",
    "    result = [[[0 for _ in range(cols)] for _ in range(rows)] for _ in range(depth)]\n",
    "    \n",
    "    for i in range(depth):\n",
    "        for j in range(rows):\n",
    "            for k in range(cols):\n",
    "                result[i][j][k] = tensor1[i][j][k] + tensor2[i][j][k]\n",
    "    return result\n",
    "def tensor_subtract(tensor1, tensor2):\n",
    "    if len(tensor1) != len(tensor2) or len(tensor1[0]) != len(tensor2[0]) or len(tensor1[0][0]) != len(tensor2[0][0]):\n",
    "        raise ValueError(\"Tensors must have the same shape for subtraction.\")\n",
    "    \n",
    "    depth = len(tensor1)\n",
    "    rows = len(tensor1[0])\n",
    "    cols = len(tensor1[0][0])\n",
    "    \n",
    "    result = [[[0 for _ in range(cols)] for _ in range(rows)] for _ in range(depth)]\n",
    "    \n",
    "    for i in range(depth):\n",
    "        for j in range(rows):\n",
    "            for k in range(cols):\n",
    "                result[i][j][k] = tensor1[i][j][k] - tensor2[i][j][k]\n",
    "    return result\n",
    "def tensor_elementwise_multiply(tensor1, tensor2):\n",
    "    if len(tensor1) != len(tensor2) or len(tensor1[0]) != len(tensor2[0]) or len(tensor1[0][0]) != len(tensor2[0][0]):\n",
    "        raise ValueError(\"Tensors must have the same shape for multiplication.\")\n",
    "    \n",
    "    depth = len(tensor1)\n",
    "    rows = len(tensor1[0])\n",
    "    cols = len(tensor1[0][0])\n",
    "    \n",
    "    result = [[[0 for _ in range(cols)] for _ in range(rows)] for _ in range(depth)]\n",
    "    \n",
    "    for i in range(depth):\n",
    "        for j in range(rows):\n",
    "            for k in range(cols):\n",
    "                result[i][j][k] = tensor1[i][j][k] * tensor2[i][j][k]\n",
    "    return result\n",
    "# The tensor you provided\n",
    "tensor_a = [\n",
    "    [[1, 2, 3], [4, 5, 6], [7, 8, 9]],\n",
    "    [[11, 12, 13], [14, 15, 16], [17, 18, 19]],\n",
    "    [[21, 22, 23], [24, 25, 26], [27, 28, 29]]\n",
    "]\n",
    "\n",
    "# A second tensor for operations\n",
    "tensor_b = [\n",
    "    [[2, 2, 2], [2, 2, 2], [2, 2, 2]],\n",
    "    [[2, 2, 2], [2, 2, 2], [2, 2, 2]],\n",
    "    [[2, 2, 2], [2, 2, 2], [2, 2, 2]]\n",
    "]\n",
    "\n",
    "# Perform and print the results\n",
    "print(\"Tensor A + Tensor B:\")\n",
    "print(tensor_add(tensor_a, tensor_b))\n",
    "\n",
    "print(\"\\nTensor A - Tensor B:\")\n",
    "print(tensor_subtract(tensor_a, tensor_b))\n",
    "\n",
    "print(\"\\nTensor A * Tensor B (element-wise):\")\n",
    "print(tensor_elementwise_multiply(tensor_a, tensor_b))"
   ]
  },
  {
   "cell_type": "code",
   "execution_count": null,
   "id": "4b11d702",
   "metadata": {},
   "outputs": [],
   "source": []
  }
 ],
 "metadata": {
  "kernelspec": {
   "display_name": "Python 3",
   "language": "python",
   "name": "python3"
  },
  "language_info": {
   "codemirror_mode": {
    "name": "ipython",
    "version": 3
   },
   "file_extension": ".py",
   "mimetype": "text/x-python",
   "name": "python",
   "nbconvert_exporter": "python",
   "pygments_lexer": "ipython3",
   "version": "3.13.7"
  }
 },
 "nbformat": 4,
 "nbformat_minor": 5
}
